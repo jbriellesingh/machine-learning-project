{
 "cells": [
  {
   "cell_type": "markdown",
   "id": "d6e08192",
   "metadata": {},
   "source": [
    "## Injesting Data"
   ]
  },
  {
   "cell_type": "code",
   "execution_count": null,
   "id": "cbc668e1",
   "metadata": {},
   "outputs": [],
   "source": []
  },
  {
   "cell_type": "code",
   "execution_count": 1,
   "id": "23084168",
   "metadata": {},
   "outputs": [],
   "source": [
    "## Ingest the Data and understand the Data\n",
    "# first I have to import all necessary libraries\n",
    "\n",
    "#used to create dataframes\n",
    "import pandas as pd \n",
    "\n",
    "#Analyze the Data\n",
    "import seaborn as sns #used to create graphs/ pairplots\n",
    "\n",
    "#Create a Machine Learning Model\n",
    "\n",
    "#used to import the confusion matrix graphical chart\n",
    "from sklearn.metrics import plot_confusion_matrix\n",
    "\n",
    "# used to show report of model accuracy\n",
    "from sklearn.metrics import classification_report\n",
    "from sklearn.model_selection import train_test_split\n",
    "from sklearn.ensemble import RandomForestClassifier\n",
    "\n",
    "# Save the Machine Learning Model\n",
    "import joblib #saves the model\n",
    "\n"
   ]
  },
  {
   "cell_type": "code",
   "execution_count": 2,
   "id": "c0f39edc",
   "metadata": {},
   "outputs": [],
   "source": [
    "#convert csv import to a dataframe \n",
    "df = pd.read_csv('SF_DS_v3.csv') "
   ]
  },
  {
   "cell_type": "code",
   "execution_count": 3,
   "id": "7c55ed4f",
   "metadata": {},
   "outputs": [
    {
     "data": {
      "text/html": [
       "<div>\n",
       "<style scoped>\n",
       "    .dataframe tbody tr th:only-of-type {\n",
       "        vertical-align: middle;\n",
       "    }\n",
       "\n",
       "    .dataframe tbody tr th {\n",
       "        vertical-align: top;\n",
       "    }\n",
       "\n",
       "    .dataframe thead th {\n",
       "        text-align: right;\n",
       "    }\n",
       "</style>\n",
       "<table border=\"1\" class=\"dataframe\">\n",
       "  <thead>\n",
       "    <tr style=\"text-align: right;\">\n",
       "      <th></th>\n",
       "      <th>Sales</th>\n",
       "      <th>Services</th>\n",
       "      <th>Marketing</th>\n",
       "      <th>Churn</th>\n",
       "    </tr>\n",
       "  </thead>\n",
       "  <tbody>\n",
       "    <tr>\n",
       "      <th>0</th>\n",
       "      <td>293.6</td>\n",
       "      <td>27.7</td>\n",
       "      <td>1.8</td>\n",
       "      <td>1</td>\n",
       "    </tr>\n",
       "    <tr>\n",
       "      <th>1</th>\n",
       "      <td>292.9</td>\n",
       "      <td>28.3</td>\n",
       "      <td>43.2</td>\n",
       "      <td>0</td>\n",
       "    </tr>\n",
       "    <tr>\n",
       "      <th>2</th>\n",
       "      <td>290.7</td>\n",
       "      <td>4.1</td>\n",
       "      <td>8.5</td>\n",
       "      <td>1</td>\n",
       "    </tr>\n",
       "    <tr>\n",
       "      <th>3</th>\n",
       "      <td>281.4</td>\n",
       "      <td>39.6</td>\n",
       "      <td>55.8</td>\n",
       "      <td>0</td>\n",
       "    </tr>\n",
       "    <tr>\n",
       "      <th>4</th>\n",
       "      <td>266.9</td>\n",
       "      <td>43.8</td>\n",
       "      <td>5.0</td>\n",
       "      <td>0</td>\n",
       "    </tr>\n",
       "  </tbody>\n",
       "</table>\n",
       "</div>"
      ],
      "text/plain": [
       "   Sales  Services  Marketing  Churn\n",
       "0  293.6      27.7        1.8      1\n",
       "1  292.9      28.3       43.2      0\n",
       "2  290.7       4.1        8.5      1\n",
       "3  281.4      39.6       55.8      0\n",
       "4  266.9      43.8        5.0      0"
      ]
     },
     "execution_count": 3,
     "metadata": {},
     "output_type": "execute_result"
    }
   ],
   "source": [
    "#to see the first 5 rows\n",
    "df.head()"
   ]
  },
  {
   "cell_type": "code",
   "execution_count": 4,
   "id": "f776edea",
   "metadata": {},
   "outputs": [
    {
     "data": {
      "text/html": [
       "<div>\n",
       "<style scoped>\n",
       "    .dataframe tbody tr th:only-of-type {\n",
       "        vertical-align: middle;\n",
       "    }\n",
       "\n",
       "    .dataframe tbody tr th {\n",
       "        vertical-align: top;\n",
       "    }\n",
       "\n",
       "    .dataframe thead th {\n",
       "        text-align: right;\n",
       "    }\n",
       "</style>\n",
       "<table border=\"1\" class=\"dataframe\">\n",
       "  <thead>\n",
       "    <tr style=\"text-align: right;\">\n",
       "      <th></th>\n",
       "      <th>Sales</th>\n",
       "      <th>Services</th>\n",
       "      <th>Marketing</th>\n",
       "      <th>Churn</th>\n",
       "    </tr>\n",
       "  </thead>\n",
       "  <tbody>\n",
       "    <tr>\n",
       "      <th>93</th>\n",
       "      <td>13.2</td>\n",
       "      <td>15.9</td>\n",
       "      <td>49.6</td>\n",
       "      <td>1</td>\n",
       "    </tr>\n",
       "    <tr>\n",
       "      <th>94</th>\n",
       "      <td>8.7</td>\n",
       "      <td>48.9</td>\n",
       "      <td>75.0</td>\n",
       "      <td>0</td>\n",
       "    </tr>\n",
       "    <tr>\n",
       "      <th>95</th>\n",
       "      <td>8.6</td>\n",
       "      <td>2.1</td>\n",
       "      <td>1.0</td>\n",
       "      <td>1</td>\n",
       "    </tr>\n",
       "    <tr>\n",
       "      <th>96</th>\n",
       "      <td>7.3</td>\n",
       "      <td>28.1</td>\n",
       "      <td>41.4</td>\n",
       "      <td>1</td>\n",
       "    </tr>\n",
       "    <tr>\n",
       "      <th>97</th>\n",
       "      <td>5.4</td>\n",
       "      <td>29.9</td>\n",
       "      <td>9.4</td>\n",
       "      <td>1</td>\n",
       "    </tr>\n",
       "  </tbody>\n",
       "</table>\n",
       "</div>"
      ],
      "text/plain": [
       "    Sales  Services  Marketing  Churn\n",
       "93   13.2      15.9       49.6      1\n",
       "94    8.7      48.9       75.0      0\n",
       "95    8.6       2.1        1.0      1\n",
       "96    7.3      28.1       41.4      1\n",
       "97    5.4      29.9        9.4      1"
      ]
     },
     "execution_count": 4,
     "metadata": {},
     "output_type": "execute_result"
    }
   ],
   "source": [
    "#to see the last 5 rows of data\n",
    "df.tail()"
   ]
  },
  {
   "cell_type": "markdown",
   "id": "84d4cc25",
   "metadata": {},
   "source": [
    "## Understanding the Data"
   ]
  },
  {
   "cell_type": "markdown",
   "id": "f0ec7d29",
   "metadata": {},
   "source": [
    ">machine learning can only process numerical data"
   ]
  },
  {
   "cell_type": "code",
   "execution_count": 5,
   "id": "91f49480",
   "metadata": {},
   "outputs": [
    {
     "name": "stdout",
     "output_type": "stream",
     "text": [
      "<class 'pandas.core.frame.DataFrame'>\n",
      "RangeIndex: 98 entries, 0 to 97\n",
      "Data columns (total 4 columns):\n",
      " #   Column     Non-Null Count  Dtype  \n",
      "---  ------     --------------  -----  \n",
      " 0   Sales      98 non-null     float64\n",
      " 1   Services   98 non-null     float64\n",
      " 2   Marketing  98 non-null     float64\n",
      " 3   Churn      98 non-null     int64  \n",
      "dtypes: float64(3), int64(1)\n",
      "memory usage: 3.2 KB\n"
     ]
    }
   ],
   "source": [
    "#check data types and analyze non-null count\n",
    "df.info()"
   ]
  },
  {
   "cell_type": "code",
   "execution_count": 6,
   "id": "24393ed1",
   "metadata": {},
   "outputs": [
    {
     "data": {
      "text/html": [
       "<div>\n",
       "<style scoped>\n",
       "    .dataframe tbody tr th:only-of-type {\n",
       "        vertical-align: middle;\n",
       "    }\n",
       "\n",
       "    .dataframe tbody tr th {\n",
       "        vertical-align: top;\n",
       "    }\n",
       "\n",
       "    .dataframe thead th {\n",
       "        text-align: right;\n",
       "    }\n",
       "</style>\n",
       "<table border=\"1\" class=\"dataframe\">\n",
       "  <thead>\n",
       "    <tr style=\"text-align: right;\">\n",
       "      <th></th>\n",
       "      <th>Sales</th>\n",
       "      <th>Services</th>\n",
       "      <th>Marketing</th>\n",
       "      <th>Churn</th>\n",
       "    </tr>\n",
       "  </thead>\n",
       "  <tbody>\n",
       "    <tr>\n",
       "      <th>count</th>\n",
       "      <td>98.000000</td>\n",
       "      <td>98.000000</td>\n",
       "      <td>98.000000</td>\n",
       "      <td>98.000000</td>\n",
       "    </tr>\n",
       "    <tr>\n",
       "      <th>mean</th>\n",
       "      <td>145.832653</td>\n",
       "      <td>24.458163</td>\n",
       "      <td>32.515306</td>\n",
       "      <td>0.653061</td>\n",
       "    </tr>\n",
       "    <tr>\n",
       "      <th>std</th>\n",
       "      <td>83.504197</td>\n",
       "      <td>14.426278</td>\n",
       "      <td>21.989437</td>\n",
       "      <td>0.478443</td>\n",
       "    </tr>\n",
       "    <tr>\n",
       "      <th>min</th>\n",
       "      <td>5.400000</td>\n",
       "      <td>1.400000</td>\n",
       "      <td>0.300000</td>\n",
       "      <td>0.000000</td>\n",
       "    </tr>\n",
       "    <tr>\n",
       "      <th>25%</th>\n",
       "      <td>71.625000</td>\n",
       "      <td>12.950000</td>\n",
       "      <td>16.150000</td>\n",
       "      <td>0.000000</td>\n",
       "    </tr>\n",
       "    <tr>\n",
       "      <th>50%</th>\n",
       "      <td>141.100000</td>\n",
       "      <td>25.600000</td>\n",
       "      <td>30.650000</td>\n",
       "      <td>1.000000</td>\n",
       "    </tr>\n",
       "    <tr>\n",
       "      <th>75%</th>\n",
       "      <td>215.975000</td>\n",
       "      <td>36.150000</td>\n",
       "      <td>45.550000</td>\n",
       "      <td>1.000000</td>\n",
       "    </tr>\n",
       "    <tr>\n",
       "      <th>max</th>\n",
       "      <td>293.600000</td>\n",
       "      <td>49.600000</td>\n",
       "      <td>114.000000</td>\n",
       "      <td>1.000000</td>\n",
       "    </tr>\n",
       "  </tbody>\n",
       "</table>\n",
       "</div>"
      ],
      "text/plain": [
       "            Sales   Services   Marketing      Churn\n",
       "count   98.000000  98.000000   98.000000  98.000000\n",
       "mean   145.832653  24.458163   32.515306   0.653061\n",
       "std     83.504197  14.426278   21.989437   0.478443\n",
       "min      5.400000   1.400000    0.300000   0.000000\n",
       "25%     71.625000  12.950000   16.150000   0.000000\n",
       "50%    141.100000  25.600000   30.650000   1.000000\n",
       "75%    215.975000  36.150000   45.550000   1.000000\n",
       "max    293.600000  49.600000  114.000000   1.000000"
      ]
     },
     "execution_count": 6,
     "metadata": {},
     "output_type": "execute_result"
    }
   ],
   "source": [
    "#describes data based on values\n",
    "df.describe()"
   ]
  },
  {
   "cell_type": "code",
   "execution_count": 7,
   "id": "ad2a79f1",
   "metadata": {},
   "outputs": [
    {
     "ename": "SyntaxError",
     "evalue": "invalid syntax (2212868765.py, line 3)",
     "output_type": "error",
     "traceback": [
      "\u001b[0;36m  File \u001b[0;32m\"/var/folders/_6/9lvwd7zj06752zdqymc98fn00000gp/T/ipykernel_15250/2212868765.py\"\u001b[0;36m, line \u001b[0;32m3\u001b[0m\n\u001b[0;31m    df['Churn'].value_counts()9\u001b[0m\n\u001b[0m                              ^\u001b[0m\n\u001b[0;31mSyntaxError\u001b[0m\u001b[0;31m:\u001b[0m invalid syntax\n"
     ]
    }
   ],
   "source": [
    "#define churn and how i created the column \n",
    "#view counts based on the value of the churn column how many values churn vs how many won't #mention unbalance numbers\n",
    "df['Churn'].value_counts()9"
   ]
  },
  {
   "cell_type": "markdown",
   "id": "5397f653",
   "metadata": {},
   "source": [
    "## Analyze the Data"
   ]
  },
  {
   "cell_type": "markdown",
   "id": "b5cdbff6",
   "metadata": {},
   "source": [
    "> A **pairplot** compares columns of data and data correllation"
   ]
  },
  {
   "cell_type": "code",
   "execution_count": null,
   "id": "23dabf9a",
   "metadata": {},
   "outputs": [],
   "source": [
    "#use pairplot to to see comparison of churn values in feature columns\n",
    "sns.pairplot(df,hue='Churn')"
   ]
  },
  {
   "cell_type": "markdown",
   "id": "e091a18f",
   "metadata": {},
   "source": [
    "## Creating a Machine Learning Model"
   ]
  },
  {
   "cell_type": "markdown",
   "id": "89cc6bb1",
   "metadata": {},
   "source": [
    "> **Supervised learning** is when you have data that you are trying to perdict\n",
    "\n",
    ">**Unsupervised learning** is when you don't have the data you are trying to perdict"
   ]
  },
  {
   "cell_type": "markdown",
   "id": "13316352",
   "metadata": {},
   "source": [
    "> **Label Column** is the column being perdicted\n",
    "  \n",
    "> **Feature Columns** are the other columns that won't be perdicted"
   ]
  },
  {
   "cell_type": "code",
   "execution_count": null,
   "id": "d7163612",
   "metadata": {},
   "outputs": [],
   "source": [
    "#create a feature variable by dropping churn column axis 1 means churn column\n",
    "X = df.drop('Churn',axis=1)"
   ]
  },
  {
   "cell_type": "code",
   "execution_count": null,
   "id": "8e3675f8",
   "metadata": {},
   "outputs": [],
   "source": [
    "#to only see the feature columns \n",
    "X"
   ]
  },
  {
   "cell_type": "code",
   "execution_count": null,
   "id": "63129318",
   "metadata": {},
   "outputs": [],
   "source": [
    "#to associate y to churn column\n",
    "y = df['Churn']"
   ]
  },
  {
   "cell_type": "code",
   "execution_count": null,
   "id": "2dcb0090",
   "metadata": {},
   "outputs": [],
   "source": [
    "#to see churn values and info of first and last 5 rows of data\n",
    "y"
   ]
  },
  {
   "cell_type": "markdown",
   "id": "70b13271",
   "metadata": {},
   "source": [
    "> **sklearn.model_selection** is a library and test train split is a function within the library\n",
    "\n",
    ">**test train split function** takes x and y and makes a subset of for training and a subset for testing to check the accuracy of model"
   ]
  },
  {
   "cell_type": "code",
   "execution_count": null,
   "id": "ac39d640",
   "metadata": {},
   "outputs": [],
   "source": [
    "X_train, X_test, y_train, y_test = train_test_split(X, y, test_size=0.2, random_state=42)"
   ]
  },
  {
   "cell_type": "code",
   "execution_count": null,
   "id": "a8f86876",
   "metadata": {},
   "outputs": [],
   "source": [
    "X_train"
   ]
  },
  {
   "cell_type": "markdown",
   "id": "389400da",
   "metadata": {},
   "source": [
    "> **Regression** problems perdicts numbers \n",
    "\n",
    ">**Classification** problems perdict a class label (since theres only 2 choices to predict)"
   ]
  },
  {
   "cell_type": "markdown",
   "id": "ae355091",
   "metadata": {},
   "source": [
    ">**hyperparameters** adjustable parameters that must be tuned in order to obtain a model with optimal performance**"
   ]
  },
  {
   "cell_type": "code",
   "execution_count": null,
   "id": "1c633c00",
   "metadata": {},
   "outputs": [],
   "source": [
    "#n_estimators,max_features are hyper parameters\n",
    "model = RandomForestClassifier(n_estimators=10,max_features='auto',random_state=42)"
   ]
  },
  {
   "cell_type": "code",
   "execution_count": null,
   "id": "750927e9",
   "metadata": {},
   "outputs": [],
   "source": [
    "#fitting the model is the same as training the model\n",
    "model.fit(X_train, y_train)"
   ]
  },
  {
   "cell_type": "code",
   "execution_count": null,
   "id": "851cb16c",
   "metadata": {},
   "outputs": [],
   "source": [
    "#perdict model to see accuracy\n",
    "y_preds=model.predict(X_test)"
   ]
  },
  {
   "cell_type": "markdown",
   "id": "25a87a3d",
   "metadata": {},
   "source": [
    "## Validating The Machine Learning Model"
   ]
  },
  {
   "cell_type": "markdown",
   "id": "f474ac27",
   "metadata": {},
   "source": [
    "> **confusion matrix** is used to test accuracy of classification models"
   ]
  },
  {
   "cell_type": "code",
   "execution_count": null,
   "id": "acc30d26",
   "metadata": {},
   "outputs": [],
   "source": [
    "#create a confusion matrix compares actual values to predictions\n",
    "plot_confusion_matrix(model,X_test,y_preds)"
   ]
  },
  {
   "cell_type": "code",
   "execution_count": null,
   "id": "02c530b0",
   "metadata": {},
   "outputs": [],
   "source": [
    "#visualize classification report that shws accuracy %\n",
    "print(classification_report(y_test,y_preds))"
   ]
  },
  {
   "cell_type": "code",
   "execution_count": null,
   "id": "ffb35d52",
   "metadata": {},
   "outputs": [],
   "source": [
    "#to predict random numbers in model \n",
    "model.predict([[67, 65, 46]])"
   ]
  },
  {
   "cell_type": "code",
   "execution_count": null,
   "id": "ec334782",
   "metadata": {},
   "outputs": [],
   "source": [
    "#to use/fit the model on all the data"
   ]
  },
  {
   "cell_type": "markdown",
   "id": "a19a0168",
   "metadata": {},
   "source": [
    "## Save & Deploy the Machine Learning Model"
   ]
  },
  {
   "cell_type": "code",
   "execution_count": null,
   "id": "3c75848b",
   "metadata": {},
   "outputs": [],
   "source": [
    "#save model as a pkl file (machine learning format best practice)\n",
    "joblib.dump(model,'jade_model.pkl')"
   ]
  },
  {
   "cell_type": "code",
   "execution_count": null,
   "id": "1f3137eb",
   "metadata": {},
   "outputs": [],
   "source": [
    "#save columns as a pkl file\n",
    "joblib.dump(list(X.columns),'jade_columns.pkl')"
   ]
  },
  {
   "cell_type": "code",
   "execution_count": null,
   "id": "f9c65735",
   "metadata": {},
   "outputs": [],
   "source": [
    "#load saved model\n",
    "loaded_model = joblib.load('jade_model.pkl')"
   ]
  },
  {
   "cell_type": "code",
   "execution_count": null,
   "id": "368b3755",
   "metadata": {},
   "outputs": [],
   "source": []
  }
 ],
 "metadata": {
  "kernelspec": {
   "display_name": "Python 3 (ipykernel)",
   "language": "python",
   "name": "python3"
  },
  "language_info": {
   "codemirror_mode": {
    "name": "ipython",
    "version": 3
   },
   "file_extension": ".py",
   "mimetype": "text/x-python",
   "name": "python",
   "nbconvert_exporter": "python",
   "pygments_lexer": "ipython3",
   "version": "3.9.7"
  }
 },
 "nbformat": 4,
 "nbformat_minor": 5
}
